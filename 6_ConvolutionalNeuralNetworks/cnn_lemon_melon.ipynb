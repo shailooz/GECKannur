{
 "cells": [
  {
   "cell_type": "code",
   "execution_count": null,
   "metadata": {},
   "outputs": [],
   "source": [
    "import zipfile\n",
    "with zipfile.ZipFile(\"dataset.zip\", 'r') as zip_ref:\n",
    "    zip_ref.extractall(\"\")"
   ]
  },
  {
   "cell_type": "code",
   "execution_count": null,
   "metadata": {},
   "outputs": [],
   "source": [
    "import os\n",
    "from PIL import Image\n",
    "import numpy as np\n",
    "import os\n",
    " \n",
    "\n",
    "X = []\n",
    "y = []\n",
    "\n",
    "base_path='./dataset/'\n",
    "for child in os.listdir(base_path):\n",
    "    sub_path = os.path.join(base_path, child)\n",
    "    if os.path.isdir(sub_path):\n",
    "        for data_file in os.listdir(sub_path):\n",
    "            X_i = Image.open(os.path.join(sub_path, data_file))\n",
    "            X_i = np.array(X_i.resize((120,120))) / 255.0\n",
    "            X.append(X_i)\n",
    "            y.append(child)\n",
    "print(np.shape(X))\n",
    "print(y)"
   ]
  },
  {
   "cell_type": "code",
   "execution_count": null,
   "metadata": {},
   "outputs": [],
   "source": [
    "from sklearn.preprocessing import LabelEncoder\n",
    "encoder = LabelEncoder()\n",
    "y = encoder.fit_transform(y)\n",
    "print(y)"
   ]
  },
  {
   "cell_type": "code",
   "execution_count": null,
   "metadata": {},
   "outputs": [],
   "source": [
    "from sklearn.model_selection import train_test_split\n",
    "X_train, X_test, y_train, y_test = train_test_split(np.array(X), np.array(y), \n",
    "                                                    test_size=0.2, random_state=42)\n",
    "#X_train=X_train.reshape([-1,120,120,1])\n",
    "#X_test=X_test.reshape([-1,120,120,1])\n",
    "\n",
    "\n",
    "import tensorflow as tf\n",
    "from tensorflow.keras import layers\n",
    "from tensorflow.keras import models\n",
    "\n",
    "import random\n",
    "\n",
    "random.seed(42)\n",
    "np.random.seed(42)\n",
    "tf.random.set_seed(42)\n",
    "\n",
    "cnnModel = models.Sequential()\n",
    "\n",
    "cnnModel.add(layers.Conv2D(10, (3,3), activation=\"relu\", \n",
    "                           input_shape=(120,120,3)))\n",
    "\n",
    "cnnModel.add(layers.MaxPooling2D((2,2)))\n",
    "\n",
    "cnnModel.add(layers.Conv2D(64, (3,3), activation=\"relu\"))\n",
    "\n",
    "cnnModel.add(layers.MaxPooling2D((2,2)))\n",
    "\n",
    "cnnModel.add(layers.Conv2D(64, (3,3), activation=\"relu\"))\n",
    "\n",
    "cnnModel.add(layers.Flatten())\n",
    "\n",
    "cnnModel.add(layers.Dense(64, activation=\"relu\"))\n",
    "\n",
    "cnnModel.add(layers.Dense(32, activation=\"relu\"))\n",
    "\n",
    "cnnModel.add(layers.Dense(1, activation=\"sigmoid\"))\n",
    "\n",
    "cnnModel.summary()\n",
    "\n",
    "\n",
    "cnnModel.compile(optimizer=\"adam\", loss=\"binary_crossentropy\",metrics=[\"accuracy\"])\n",
    "\n",
    "\n",
    "cnnModel.fit(X_train, y_train, epochs=20, batch_size=32)\n",
    "\n",
    "testLoss, testAccuracy = cnnModel.evaluate(X_test, y_test)\n",
    "\n",
    "print(testAccuracy)\n",
    "\n",
    "cnnModel.save_weights('./my_checkpoint')\n",
    "cnnModel.save(\"./mymodel\")"
   ]
  },
  {
   "cell_type": "code",
   "execution_count": null,
   "metadata": {},
   "outputs": [],
   "source": [
    "y_pred = (cnnModel.predict(X_test) > 0.5).astype(\"int32\")"
   ]
  },
  {
   "cell_type": "markdown",
   "metadata": {},
   "source": [
    "print(y_pred)"
   ]
  },
  {
   "cell_type": "code",
   "execution_count": null,
   "metadata": {},
   "outputs": [],
   "source": [
    "from sklearn.metrics import confusion_matrix\n",
    "import seaborn as sns\n",
    "\n",
    "cm = confusion_matrix(y_test, y_pred)\n",
    "sns.heatmap(cm,cmap='Greens', annot=True, xticklabels = [\"Lemon\", \"Melon\"],yticklabels = [\"Lemon\", \"Melon\"])\n"
   ]
  },
  {
   "cell_type": "code",
   "execution_count": null,
   "metadata": {},
   "outputs": [],
   "source": [
    "from sklearn.metrics import roc_curve\n",
    "from matplotlib import pyplot as plt\n",
    "\n",
    "pred_prob = cnnModel.predict(X_test)\n",
    "pr1, tpr1, thresh1 = roc_curve(y_test, pred_prob, pos_label=1)\n",
    "\n",
    "\n",
    "random_probs = [0 for i in range(len(y_test))]\n",
    "p_fpr, p_tpr, _ = roc_curve(y_test, random_probs, pos_label=1)\n",
    "\n",
    "plt.plot(pr1, tpr1, linestyle='--', label='CNN')\n",
    "plt.plot(p_fpr, p_tpr, linestyle='--')\n",
    "\n",
    "plt.xlabel('False Positive Rate')\n",
    "plt.ylabel('True Positive Rate')\n",
    "plt.legend()\n",
    "plt.show()"
   ]
  },
  {
   "cell_type": "markdown",
   "metadata": {},
   "source": [
    "https://www.analyticsvidhya.com/blog/2020/06/auc-roc-curve-machine-learning/"
   ]
  },
  {
   "cell_type": "code",
   "execution_count": null,
   "metadata": {},
   "outputs": [],
   "source": []
  }
 ],
 "metadata": {
  "kernelspec": {
   "display_name": "Python 3 (ipykernel)",
   "language": "python",
   "name": "python3"
  },
  "language_info": {
   "codemirror_mode": {
    "name": "ipython",
    "version": 3
   },
   "file_extension": ".py",
   "mimetype": "text/x-python",
   "name": "python",
   "nbconvert_exporter": "python",
   "pygments_lexer": "ipython3",
   "version": "3.11.4"
  }
 },
 "nbformat": 4,
 "nbformat_minor": 2
}
