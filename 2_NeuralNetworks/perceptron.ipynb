{
  "nbformat": 4,
  "nbformat_minor": 0,
  "metadata": {
    "colab": {
      "provenance": []
    },
    "kernelspec": {
      "name": "python3",
      "display_name": "Python 3"
    },
    "language_info": {
      "name": "python"
    }
  },
  "cells": [
    {
      "cell_type": "markdown",
      "source": [
        "AND gate"
      ],
      "metadata": {
        "id": "zzOT5NSyuRkl"
      }
    },
    {
      "cell_type": "code",
      "execution_count": null,
      "metadata": {
        "id": "z87kA3bCsAX8"
      },
      "outputs": [],
      "source": [
        "from sklearn.linear_model import Perceptron\n",
        "X_train=[[0,0],[0,1],[1,0],[1,1]]\n",
        "y_train=[0,0,0,1]\n",
        "clf=Perceptron(tol=1e-3,random_state=0)\n",
        "clf.fit(X_train,y_train)\n",
        "y_pred=clf.predict(X_train)\n",
        "print(y_pred)\n",
        "print(clf.coef_,clf.intercept_)"
      ]
    },
    {
      "cell_type": "markdown",
      "source": [
        "OR gate"
      ],
      "metadata": {
        "id": "2qDLUnG6uWGP"
      }
    },
    {
      "cell_type": "code",
      "source": [
        "from sklearn.linear_model import Perceptron\n",
        "X_train=[[0,0],[0,1],[1,0],[1,1]]\n",
        "y_train=[0,1,1,1]\n",
        "clf=Perceptron(tol=1e-3,random_state=42)\n",
        "clf.fit(X_train,y_train)\n",
        "y_pred=clf.predict(X_train)\n",
        "print(y_pred)\n",
        "print(clf.coef_,clf.intercept_)"
      ],
      "metadata": {
        "id": "JBqSbLKhthy5"
      },
      "execution_count": null,
      "outputs": []
    },
    {
      "cell_type": "markdown",
      "source": [
        "XOR gate"
      ],
      "metadata": {
        "id": "0HNZQregtd-7"
      }
    },
    {
      "cell_type": "code",
      "source": [
        "from sklearn.linear_model import Perceptron\n",
        "X_train=[[0,0],[0,1],[1,0],[1,1]]\n",
        "y_train=[0,1,1,0]\n",
        "clf=Perceptron(tol=1e-3,random_state=42)\n",
        "clf.fit(X_train,y_train)\n",
        "y_pred=clf.predict(X_train)\n",
        "print(y_pred)\n",
        "print(clf.coef_,clf.intercept_)"
      ],
      "metadata": {
        "id": "mSElNiD7WiUn"
      },
      "execution_count": null,
      "outputs": []
    },
    {
      "cell_type": "markdown",
      "source": [],
      "metadata": {
        "id": "iNXrK0NjXO8y"
      }
    },
    {
      "cell_type": "code",
      "source": [
        "from sklearn.neural_network import MLPClassifier\n",
        "X_train=[[0,0],[0,1],[1,0],[1,1]]\n",
        "y_train=[0,1,1,0]\n",
        "clf=MLPClassifier(solver='adam',alpha=1e-5,activation='relu',hidden_layer_sizes=(20,10,5),random_state=42)\n",
        "clf.fit(X_train,y_train)\n",
        "y_pred=clf.predict(X_train)\n",
        "print(y_pred)\n"
      ],
      "metadata": {
        "id": "-MYJ1_R14oDo"
      },
      "execution_count": null,
      "outputs": []
    },
    {
      "cell_type": "code",
      "source": [
        "print(clf.coefs_)"
      ],
      "metadata": {
        "id": "7A81QbM19qa2"
      },
      "execution_count": null,
      "outputs": []
    }
  ]
}