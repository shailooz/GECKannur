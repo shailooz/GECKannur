{
 "cells": [
  {
   "cell_type": "code",
   "execution_count": 12,
   "metadata": {
    "id": "EUZD1vcLnSTW"
   },
   "outputs": [],
   "source": [
    "import numpy as np\n",
    "import tensorflow as tf\n",
    "from tensorflow.keras import layers\n",
    "import pandas as pd\n",
    "from matplotlib import pyplot as plt\n",
    "from sklearn.preprocessing import MinMaxScaler"
   ]
  },
  {
   "cell_type": "code",
   "execution_count": 13,
   "metadata": {
    "colab": {
     "base_uri": "https://localhost:8080/"
    },
    "id": "1evVfOEKrEIW",
    "outputId": "74e399ca-6a42-4f67-9be0-6b5dffb9ac0c"
   },
   "outputs": [
    {
     "name": "stdout",
     "output_type": "stream",
     "text": [
      "[[ 8.  24.3  0.   3.4  6.3]\n",
      " [14.  26.9  3.6  4.4  9.7]\n",
      " [13.7 23.4  3.6  5.8  3.3]\n",
      " ...\n",
      " [12.5 19.9  0.   8.4  5.3]\n",
      " [12.5 26.9  0.   5.   7.1]\n",
      " [12.3 30.2  0.   6.  12.6]]\n"
     ]
    }
   ],
   "source": [
    "data = pd.read_csv('weather.csv')\n",
    "seq = data.iloc[:,:].values\n",
    "print(seq)"
   ]
  },
  {
   "cell_type": "code",
   "execution_count": 14,
   "metadata": {
    "colab": {
     "base_uri": "https://localhost:8080/"
    },
    "id": "uTFCeC_DxFJU",
    "outputId": "ca2efda2-f5b0-4fb2-c953-a774644093e0"
   },
   "outputs": [
    {
     "name": "stdout",
     "output_type": "stream",
     "text": [
      "[[[ 0.01526718  0.18439716 -1.         -0.52941176 -0.07352941]\n",
      "  [ 0.47328244  0.36879433 -0.81909548 -0.38235294  0.42647059]]\n",
      "\n",
      " [[ 0.47328244  0.36879433 -0.81909548 -0.38235294  0.42647059]\n",
      "  [ 0.45038168  0.12056738 -0.81909548 -0.17647059 -0.51470588]]\n",
      "\n",
      " [[ 0.45038168  0.12056738 -0.81909548 -0.17647059 -0.51470588]\n",
      "  [ 0.41984733 -0.43971631  1.          0.02941176  0.33823529]]\n",
      "\n",
      " ...\n",
      "\n",
      " [[-0.41221374 -0.53900709 -1.         -0.58823529 -0.73529412]\n",
      "  [-0.64122137 -0.67375887 -1.         -0.64705882  0.02941176]]\n",
      "\n",
      " [[-0.64122137 -0.67375887 -1.         -0.64705882  0.02941176]\n",
      "  [-0.41984733 -0.71631206 -1.         -0.23529412  0.39705882]]\n",
      "\n",
      " [[-0.41984733 -0.71631206 -1.         -0.23529412  0.39705882]\n",
      "  [-0.8778626  -0.5177305  -1.         -0.64705882  0.52941176]]]\n",
      "[[ 0.45038168  0.12056738 -0.81909548 -0.17647059 -0.51470588]\n",
      " [ 0.41984733 -0.43971631  1.          0.02941176  0.33823529]\n",
      " [-0.01526718 -0.39716312 -0.85929648 -0.20588235  0.55882353]\n",
      " ...\n",
      " [-0.41984733 -0.71631206 -1.         -0.23529412  0.39705882]\n",
      " [-0.8778626  -0.5177305  -1.         -0.64705882  0.52941176]\n",
      " [-0.66412214 -0.53191489 -1.         -0.64705882  0.14705882]]\n"
     ]
    }
   ],
   "source": [
    "look_back = 2\n",
    "def create_dataset(dataset, look_back=1):\n",
    "\tdataX, dataY = [], []\n",
    "\tfor i in range(len(dataset)-look_back-1):\n",
    "\t\ta = dataset[i:(i+look_back)]\n",
    "\t\tdataX.append(a)\n",
    "\t\tdataY.append(dataset[i + look_back])\n",
    "\treturn np.array(dataX), np.array(dataY)\n",
    " \n",
    "scaler = MinMaxScaler(feature_range=(-1, 1))\n",
    "seq_scaled = scaler.fit_transform(seq)\n",
    "\n",
    "seq_train = seq_scaled[:300,:]\n",
    "seq_test = seq_scaled[300:,:]\n",
    "X_train,Y_train= create_dataset(seq_train,look_back)\n",
    "X_test,Y_test= create_dataset(seq_test,look_back)\n",
    "print(X_train)\n",
    "print(Y_train)"
   ]
  },
  {
   "cell_type": "code",
   "execution_count": null,
   "metadata": {
    "colab": {
     "base_uri": "https://localhost:8080/"
    },
    "id": "T-TLTUIsnldf",
    "outputId": "0acd4656-3855-46e6-e640-49d8ed97ff84"
   },
   "outputs": [
    {
     "name": "stdout",
     "output_type": "stream",
     "text": [
      "Epoch 1/100\n"
     ]
    }
   ],
   "source": [
    "model = keras.Sequential()\n",
    "model.add(layers.SimpleRNN(50, input_shape=(look_back,5)))\n",
    "model.add(layers.Dropout(0.1))\n",
    "model.add(layers.Dense(5))\n",
    "model.compile(loss='mean_squared_error', optimizer=\"RMSProp\")\n",
    "model.fit(X_train, Y_train, epochs=100, batch_size=64, verbose=1)"
   ]
  },
  {
   "cell_type": "code",
   "execution_count": null,
   "metadata": {
    "colab": {
     "base_uri": "https://localhost:8080/",
     "height": 1000
    },
    "id": "qzVaHOWTyKJ2",
    "outputId": "726f57c5-324f-445d-f737-2fcb895e21b7"
   },
   "outputs": [],
   "source": [
    "seq_train_pred_scaled = model.predict(X_train)\n",
    "seq_train_pred = scaler.inverse_transform(seq_train_pred_scaled)\n",
    "X_train_org = scaler.inverse_transform(seq_train)\n",
    "print(seq_train_pred)\n",
    "for i in range(5):\n",
    "  plt.plot(X_train_org[:,i],label='True')\n",
    "  plt.plot(seq_train_pred[:,i],label='Predicted')\n",
    "  plt.legend()\n",
    "  plt.show()"
   ]
  },
  {
   "cell_type": "code",
   "execution_count": null,
   "metadata": {
    "id": "pm6Igv9AzvDJ"
   },
   "outputs": [],
   "source": []
  },
  {
   "cell_type": "code",
   "execution_count": null,
   "metadata": {
    "colab": {
     "base_uri": "https://localhost:8080/",
     "height": 1000
    },
    "id": "vBx17eTS1kGs",
    "outputId": "d9c0e421-577b-4bbd-a032-b0b5879c9199"
   },
   "outputs": [],
   "source": [
    "seq_test_pred_scaled = model.predict(X_test)\n",
    "seq_test_pred = scaler.inverse_transform(seq_test_pred_scaled)\n",
    "X_test_org = scaler.inverse_transform(seq_test)\n",
    "for i in range(5):\n",
    "    plt.plot(X_test_org[:,i],label='True')\n",
    "    plt.plot(seq_test_pred[:,i],label='Predicted')\n",
    "    plt.legend()\n",
    "    plt.show()"
   ]
  },
  {
   "cell_type": "code",
   "execution_count": null,
   "metadata": {
    "id": "zrr-yhruKwwy"
   },
   "outputs": [],
   "source": []
  }
 ],
 "metadata": {
  "colab": {
   "name": "RNN_REGRESSION.ipynb",
   "provenance": []
  },
  "kernelspec": {
   "display_name": "Python 3 (ipykernel)",
   "language": "python",
   "name": "python3"
  },
  "language_info": {
   "codemirror_mode": {
    "name": "ipython",
    "version": 3
   },
   "file_extension": ".py",
   "mimetype": "text/x-python",
   "name": "python",
   "nbconvert_exporter": "python",
   "pygments_lexer": "ipython3",
   "version": "3.11.4"
  }
 },
 "nbformat": 4,
 "nbformat_minor": 1
}
