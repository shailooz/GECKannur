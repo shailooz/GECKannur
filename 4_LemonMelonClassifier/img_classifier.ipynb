{
  "cells": [
    {
      "cell_type": "code",
      "source": [
        "import zipfile\n",
        "with zipfile.ZipFile(\"dataset.zip\", 'r') as zip_ref:\n",
        "  zip_ref.extractall(\"\")"
      ],
      "metadata": {
        "id": "wQdmXGizefcU"
      },
      "execution_count": null,
      "outputs": []
    },
    {
      "cell_type": "code",
      "execution_count": null,
      "metadata": {
        "id": "Ku7IZB-K6-T1"
      },
      "outputs": [],
      "source": [
        "import os\n",
        "import cv2\n",
        "import numpy as np\n",
        "import pandas as pd\n",
        "\n",
        "\n",
        "def extract_features(img):\n",
        "    return  list(cv2.mean(im))[:3]\n",
        "\n",
        "\n",
        "data=[]\n",
        "basepath='./dataset/'\n",
        "for folder in os.scandir(basepath):\n",
        "    if folder.is_dir():\n",
        "        #print(folder.name)\n",
        "        for file in os.scandir(folder.path):\n",
        "            im=cv2.imread(file.path)\n",
        "            im=cv2.cvtColor(im,cv2.COLOR_BGR2RGB)\n",
        "            features=extract_features(im)\n",
        "            features.append(folder.name)\n",
        "            data.append(features)\n",
        "            #print(features)"
      ]
    },
    {
      "cell_type": "code",
      "execution_count": null,
      "metadata": {
        "id": "SRMEHMSP6-T5"
      },
      "outputs": [],
      "source": [
        "print(data)"
      ]
    },
    {
      "cell_type": "code",
      "execution_count": null,
      "metadata": {
        "id": "cjr8Xj716-T8"
      },
      "outputs": [],
      "source": [
        "df = pd.DataFrame(data, columns=['R','G','B','class'])\n",
        "df.to_csv('curdata.csv',index=False)"
      ]
    },
    {
      "cell_type": "code",
      "execution_count": null,
      "metadata": {
        "id": "corLdCrG6-T9"
      },
      "outputs": [],
      "source": [
        "df = pd.read_csv('curdata.csv')\n",
        "print(df)"
      ]
    },
    {
      "cell_type": "code",
      "execution_count": null,
      "metadata": {
        "id": "1W0Uv1Yw6-T-"
      },
      "outputs": [],
      "source": [
        "lX = df[df['class']=='lemon']\n",
        "mX = df[df['class']=='melon']"
      ]
    },
    {
      "cell_type": "code",
      "execution_count": null,
      "metadata": {
        "id": "3g-ZOeTJ6-T_"
      },
      "outputs": [],
      "source": [
        "import numpy as np\n",
        "import matplotlib.pyplot as plt\n",
        "%matplotlib inline\n",
        "\n",
        "plt.figure(figsize=(10, 10), dpi= 80, facecolor='w', edgecolor='k')\n",
        "ax = plt.axes(projection='3d')\n",
        "\n",
        "ax.set_xlabel('R')\n",
        "ax.set_ylabel('G')\n",
        "ax.set_zlabel('B');\n",
        "\n",
        "ax.scatter3D(lX['R'], lX['G'], lX['B'],color='y')\n",
        "ax.scatter3D(mX['R'], mX['G'], mX['B'],color='g')"
      ]
    },
    {
      "cell_type": "code",
      "execution_count": null,
      "metadata": {
        "id": "TecLxL2_6-UA"
      },
      "outputs": [],
      "source": [
        "from sklearn.model_selection import train_test_split\n",
        "from sklearn import preprocessing\n",
        "\n",
        "X=df.iloc[:,:-1].values\n",
        "y=df.iloc[:,-1].values\n",
        "print(X)\n",
        "print(y)\n",
        "\n",
        "le = preprocessing.LabelEncoder()\n",
        "y=le.fit(y).transform(y)\n",
        "\n",
        "print(y)\n",
        "\n",
        "X_train, X_test, y_train, y_test = train_test_split(X, y, test_size=0.33, random_state=42)\n"
      ]
    },
    {
      "cell_type": "code",
      "execution_count": null,
      "metadata": {
        "id": "0iw7iCiu6-UC"
      },
      "outputs": [],
      "source": [
        "from sklearn.neural_network import MLPClassifier\n",
        "classifier = MLPClassifier(random_state=42, hidden_layer_sizes=(100,50),max_iter=1000, solver='adam')\n",
        "classifier.fit(X_train, y_train)\n",
        "y_pred = classifier.predict(X_test)\n",
        "\n",
        "\n",
        "from sklearn.metrics import classification_report, confusion_matrix\n",
        "\n",
        "print(confusion_matrix(y_test,y_pred))\n",
        "print(classification_report(y_test,y_pred))\n"
      ]
    },
    {
      "cell_type": "code",
      "execution_count": null,
      "metadata": {
        "id": "MYtM62SK6-UD"
      },
      "outputs": [],
      "source": [
        "import urllib.request\n",
        "\n",
        "def get_image(url):\n",
        "\n",
        "  # Open the URL and read the image data\n",
        "  with urllib.request.urlopen(url) as response:\n",
        "      image_data = response.read()\n",
        "\n",
        "  # Decode the image data and convert it to a NumPy array\n",
        "  image_array = np.array(bytearray(image_data), dtype=np.uint8)\n",
        "\n",
        "  # Decode the image array into an OpenCV image\n",
        "  image = cv2.imdecode(image_array, cv2.IMREAD_COLOR)\n",
        "  return image"
      ]
    },
    {
      "cell_type": "code",
      "execution_count": null,
      "metadata": {
        "id": "jVXldBGv6-UG"
      },
      "outputs": [],
      "source": [
        "\n",
        "import matplotlib.pyplot as plt\n",
        "\n",
        "url=input(\"Enter image url : \")\n",
        "im=get_image(url)\n",
        "im=cv2.cvtColor(im,cv2.COLOR_BGR2RGB)\n",
        "features=extract_features(im)\n",
        "yp=classifier.predict([features])\n",
        "yp=le.inverse_transform(yp)\n",
        "\n",
        "print('It is a '+yp[0])\n",
        "plt.axis(\"off\")\n",
        "plt.imshow(im)\n",
        "plt.show()"
      ]
    }
  ],
  "metadata": {
    "colab": {
      "provenance": []
    },
    "kernelspec": {
      "display_name": "Python 3 (ipykernel)",
      "language": "python",
      "name": "python3"
    },
    "language_info": {
      "codemirror_mode": {
        "name": "ipython",
        "version": 3
      },
      "file_extension": ".py",
      "mimetype": "text/x-python",
      "name": "python",
      "nbconvert_exporter": "python",
      "pygments_lexer": "ipython3",
      "version": "3.11.4"
    }
  },
  "nbformat": 4,
  "nbformat_minor": 0
}